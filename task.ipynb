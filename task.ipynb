{
 "cells": [
  {
   "cell_type": "code",
   "execution_count": null,
   "metadata": {},
   "outputs": [],
   "source": [
    "import matplotlib.pyplot as plt\n",
    "\n",
    "# Create a grid of 250x250 pixels filled with ones (white)\n",
    "grid = [[0 for _ in range(250)] for _ in range(250)]\n",
    "for x in range(46, 226):\n",
    "    for y in range(75, 126):\n",
    "        grid[y][x] = 1\n",
    "        \n",
    "for x in range(150, 201):\n",
    "    for y in range(50, 201):\n",
    "        grid[y][x] = 1       \n",
    "        \n",
    "x1, y1 = 0, 0  \n",
    "x2, y2 = 249, 249  \n",
    "\n",
    "# Draw the diagonal line with increased thickness\n",
    "line_thickness = 5  # Increase thickness to 5 pixels\n",
    "for i in range(-line_thickness // 2, line_thickness // 2 + 1): #kaza line gamb ba3d\n",
    "    for j in range(250):\n",
    "        x = x1 + j\n",
    "        y = y1 + j + i\n",
    "        if 0 <= x < 250 and 0 <= y < 250:\n",
    "            grid[y][x] = 1\n",
    "\n",
    "\n",
    "x12, y12 = 0, 125  \n",
    "\n",
    "for i in range(250):\n",
    "    x = x12 + i\n",
    "    y = y12 + i\n",
    "    if x < 250 and y < 250:\n",
    "        grid[y][x] = 1\n",
    "\n",
    "\n",
    "\n",
    "\n",
    "plt.imshow(grid,cmap='gray')\n",
    "plt.axis('on')  # Turn off axis\n",
    "plt.show()\n",
    "\n"
   ]
  },
  {
   "cell_type": "code",
   "execution_count": null,
   "metadata": {},
   "outputs": [],
   "source": []
  }
 ],
 "metadata": {
  "language_info": {
   "name": "python"
  }
 },
 "nbformat": 4,
 "nbformat_minor": 2
}
